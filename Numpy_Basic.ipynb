{
 "cells": [
  {
   "cell_type": "markdown",
   "source": [
    "### Importing and creating numpy array"
   ],
   "metadata": {
    "collapsed": false
   },
   "id": "cbcae3a89329d4dc"
  },
  {
   "cell_type": "code",
   "execution_count": 1,
   "outputs": [
    {
     "name": "stdout",
     "output_type": "stream",
     "text": [
      "[1 2 3]\n"
     ]
    },
    {
     "data": {
      "text/plain": "array([1, 2, 3], dtype=int16)"
     },
     "execution_count": 1,
     "metadata": {},
     "output_type": "execute_result"
    }
   ],
   "source": [
    "\n",
    "import numpy as np\n",
    "a = np.array([1,2,3], dtype= 'int16')\n",
    "print(a)\n",
    "\n",
    "a"
   ],
   "metadata": {
    "collapsed": false,
    "ExecuteTime": {
     "end_time": "2023-12-08T17:43:26.702724600Z",
     "start_time": "2023-12-08T17:43:26.578974100Z"
    }
   },
   "id": "da481dd711cbf4e"
  },
  {
   "cell_type": "markdown",
   "source": [
    "print(\"Hello world\")"
   ],
   "metadata": {
    "collapsed": false
   },
   "id": "ad3458b593fcfb3d"
  },
  {
   "cell_type": "code",
   "execution_count": 2,
   "outputs": [],
   "source": [],
   "metadata": {
    "collapsed": false,
    "ExecuteTime": {
     "end_time": "2023-12-08T07:56:21.511205700Z",
     "start_time": "2023-12-08T07:56:21.487267600Z"
    }
   },
   "id": "fd653e8fd0450180"
  },
  {
   "cell_type": "code",
   "execution_count": 3,
   "outputs": [
    {
     "name": "stdout",
     "output_type": "stream",
     "text": [
      "[[1 2 3]\n",
      " [4 5 6]]\n"
     ]
    }
   ],
   "source": [
    "b = np.array([[1,2,3],[4,5,6]])\n",
    "print(b)"
   ],
   "metadata": {
    "collapsed": false,
    "ExecuteTime": {
     "end_time": "2023-12-08T07:56:42.742575400Z",
     "start_time": "2023-12-08T07:56:42.706671300Z"
    }
   },
   "id": "ab9ab6eb1b7f8ad"
  },
  {
   "cell_type": "code",
   "execution_count": 4,
   "outputs": [
    {
     "data": {
      "text/plain": "<numpy.core._internal._ctypes at 0x2a87885a430>"
     },
     "execution_count": 4,
     "metadata": {},
     "output_type": "execute_result"
    }
   ],
   "source": [
    "b.ctypes\n"
   ],
   "metadata": {
    "collapsed": false,
    "ExecuteTime": {
     "end_time": "2023-12-08T08:02:48.716953Z",
     "start_time": "2023-12-08T08:02:48.694016700Z"
    }
   },
   "id": "77d43d3e4639dc91"
  },
  {
   "cell_type": "code",
   "execution_count": 0,
   "outputs": [],
   "source": [
    "b.dtype"
   ],
   "metadata": {
    "collapsed": false
   },
   "id": "936544ec382b88a0"
  },
  {
   "cell_type": "markdown",
   "source": [
    "Finding datatype dtype\n"
   ],
   "metadata": {
    "collapsed": false
   },
   "id": "c1b9ee609e07f3de"
  },
  {
   "cell_type": "code",
   "execution_count": 0,
   "outputs": [],
   "source": [
    "a.dtype"
   ],
   "metadata": {
    "collapsed": false
   },
   "id": "2317f03b7e603411"
  },
  {
   "cell_type": "markdown",
   "source": [
    "Getting array shape details [rows, column]"
   ],
   "metadata": {
    "collapsed": false
   },
   "id": "6decbed414f61ddd"
  },
  {
   "cell_type": "code",
   "execution_count": 0,
   "outputs": [],
   "source": [
    "c = np.array([[[20,21],[22,23]],[[24,25],[26,27]]])\n",
    "c.shape"
   ],
   "metadata": {
    "collapsed": false
   },
   "id": "3448bea2ec701e73"
  },
  {
   "cell_type": "markdown",
   "source": [
    "Accessing element in 3D array"
   ],
   "metadata": {
    "collapsed": false
   },
   "id": "41aba2adb1338ed1"
  },
  {
   "cell_type": "code",
   "execution_count": 0,
   "outputs": [],
   "source": [
    "c[0,0,1]"
   ],
   "metadata": {
    "collapsed": false
   },
   "id": "626b1001063bc426"
  },
  {
   "cell_type": "markdown",
   "source": [
    "Creating array with full zeros ([rows, column],datatype)"
   ],
   "metadata": {
    "collapsed": false
   },
   "id": "4e988e8a9476d97c"
  },
  {
   "cell_type": "code",
   "execution_count": 14,
   "outputs": [],
   "source": [
    "one = np.zeros([2,2], dtype= 'int32')"
   ],
   "metadata": {
    "collapsed": false,
    "ExecuteTime": {
     "end_time": "2023-12-08T08:40:22.202258Z",
     "start_time": "2023-12-08T08:40:22.191287500Z"
    }
   },
   "id": "f1f057f5013cac29"
  },
  {
   "cell_type": "code",
   "execution_count": 0,
   "outputs": [],
   "source": [
    "one"
   ],
   "metadata": {
    "collapsed": false
   },
   "id": "4e8d428e5e42687d"
  },
  {
   "cell_type": "markdown",
   "source": [
    "Creating array with full ones ([rows, column],datatype)"
   ],
   "metadata": {
    "collapsed": false
   },
   "id": "35aa89c214c8d299"
  },
  {
   "cell_type": "code",
   "execution_count": 21,
   "outputs": [
    {
     "data": {
      "text/plain": "array([[1, 1, 1, 1, 1, 1, 1, 1, 1, 1],\n       [1, 1, 1, 1, 1, 1, 1, 1, 1, 1]])"
     },
     "execution_count": 21,
     "metadata": {},
     "output_type": "execute_result"
    }
   ],
   "source": [
    "zero = np.ones_like([10])\n",
    "zeronl = np.ones([2,10], dtype= 'int32')\n",
    "zeronl"
   ],
   "metadata": {
    "collapsed": false,
    "ExecuteTime": {
     "end_time": "2023-12-08T08:42:35.066430500Z",
     "start_time": "2023-12-08T08:42:35.017047200Z"
    }
   },
   "id": "b8e16a2f6880a760"
  },
  {
   "cell_type": "code",
   "execution_count": 23,
   "outputs": [
    {
     "ename": "AttributeError",
     "evalue": "'numpy.ndarray' object has no attribute 'ones_like'",
     "output_type": "error",
     "traceback": [
      "\u001B[1;31m---------------------------------------------------------------------------\u001B[0m",
      "\u001B[1;31mAttributeError\u001B[0m                            Traceback (most recent call last)",
      "Cell \u001B[1;32mIn[23], line 1\u001B[0m\n\u001B[1;32m----> 1\u001B[0m \u001B[43mc\u001B[49m\u001B[38;5;241;43m.\u001B[39;49m\u001B[43mones_like\u001B[49m\n",
      "\u001B[1;31mAttributeError\u001B[0m: 'numpy.ndarray' object has no attribute 'ones_like'"
     ]
    }
   ],
   "source": [
    "c.ones_like\n"
   ],
   "metadata": {
    "collapsed": false,
    "ExecuteTime": {
     "end_time": "2023-12-08T08:46:57.014248800Z",
     "start_time": "2023-12-08T08:46:56.933944900Z"
    }
   },
   "id": "dfdc7454e82ba8d"
  },
  {
   "cell_type": "code",
   "execution_count": 24,
   "outputs": [
    {
     "data": {
      "text/plain": "array([1])"
     },
     "execution_count": 24,
     "metadata": {},
     "output_type": "execute_result"
    }
   ],
   "source": [
    "c = np.ones_like([2])\n",
    "c"
   ],
   "metadata": {
    "collapsed": false,
    "ExecuteTime": {
     "end_time": "2023-12-08T08:47:20.867797800Z",
     "start_time": "2023-12-08T08:47:20.840286800Z"
    }
   },
   "id": "e0ceb470b9247819"
  },
  {
   "cell_type": "code",
   "execution_count": 0,
   "outputs": [],
   "source": [
    "np.ones_like(c)"
   ],
   "metadata": {
    "collapsed": false
   },
   "id": "f81fd18cac16791f"
  },
  {
   "cell_type": "markdown",
   "source": [
    "Creating array with any number syntax:\n",
    " numpy.full([rows, cloumn], number)"
   ],
   "metadata": {
    "collapsed": false
   },
   "id": "6a36fd390b0cd683"
  },
  {
   "cell_type": "code",
   "execution_count": 26,
   "outputs": [
    {
     "data": {
      "text/plain": "array([[100, 100, 100],\n       [100, 100, 100],\n       [100, 100, 100]])"
     },
     "execution_count": 26,
     "metadata": {},
     "output_type": "execute_result"
    }
   ],
   "source": [
    "num = np.full([3,3],100)\n",
    "num"
   ],
   "metadata": {
    "collapsed": false,
    "ExecuteTime": {
     "end_time": "2023-12-08T08:48:27.118013300Z",
     "start_time": "2023-12-08T08:48:27.087096500Z"
    }
   },
   "id": "3ec73e2942e1183"
  },
  {
   "cell_type": "code",
   "execution_count": 0,
   "outputs": [],
   "source": [
    "num = np.full_like(num,99)"
   ],
   "metadata": {
    "collapsed": false
   },
   "id": "cf0371c8914f9066"
  },
  {
   "cell_type": "markdown",
   "source": [
    "Creating array with random float B/W 0,1 syntax:\n",
    "numpy.random.rand(rows, column)"
   ],
   "metadata": {
    "collapsed": false
   },
   "id": "987793ac9e1f0a02"
  },
  {
   "cell_type": "code",
   "execution_count": 0,
   "outputs": [],
   "source": [
    "np.random.rand(4,2)"
   ],
   "metadata": {
    "collapsed": false
   },
   "id": "59ea6bcdc21ac7e5"
  },
  {
   "cell_type": "markdown",
   "source": [
    "Creating array with Random value syntax:\n",
    "numpy.random.randint([start:end],size = [rows, cloumn]) "
   ],
   "metadata": {
    "collapsed": false
   },
   "id": "4298778e9b786d33"
  },
  {
   "cell_type": "code",
   "execution_count": 0,
   "outputs": [],
   "source": [
    "np.random.randint(7,size = [3,3])"
   ],
   "metadata": {
    "collapsed": false
   },
   "id": "af08d56a4568ef73"
  },
  {
   "cell_type": "markdown",
   "source": [
    "Pratice Code"
   ],
   "metadata": {
    "collapsed": false
   },
   "id": "f15ebaf5f5a07b02"
  },
  {
   "cell_type": "code",
   "execution_count": 0,
   "outputs": [],
   "source": [
    "z = np.zeros([7,7], dtype='int16')\n",
    "y = np.ones([5,5], dtype = 'int16')\n",
    "print(z)\n",
    "y[2,2] = 5\n",
    "print(y)\n",
    "z[1:6,1:6] = y\n",
    "print(z)"
   ],
   "metadata": {
    "collapsed": false
   },
   "id": "22871ef47b1d1d73"
  },
  {
   "cell_type": "markdown",
   "source": [
    "Reading data from txt file and creating array with read data seperated by ',' syntax:\n",
    "numpy.genfromtxt(\"{filename.extension}\", delimiter = \"{seperator}\")"
   ],
   "metadata": {
    "collapsed": false
   },
   "id": "9584801aae38b330"
  },
  {
   "cell_type": "code",
   "execution_count": 58,
   "outputs": [
    {
     "name": "stdout",
     "output_type": "stream",
     "text": [
      "[[     1      2      3      2      1      2      1   2121    321   1231\n",
      "     432]\n",
      " [  4234 432432 414124   5325  63562   6324    312    312     31      2\n",
      "    1231]\n",
      " [776344   6543      2     65      0   6340      4   3123   3123   3123\n",
      "    3121]]\n"
     ]
    }
   ],
   "source": [
    "filedata = np.genfromtxt(\"Sample_data.txt\",delimiter=\",\")\n",
    "filedata = filedata.astype('int32')\n",
    "print(filedata)\n"
   ],
   "metadata": {
    "collapsed": false,
    "ExecuteTime": {
     "end_time": "2023-12-08T17:20:08.660195300Z",
     "start_time": "2023-12-08T17:20:08.639252200Z"
    }
   },
   "id": "5ac4c8d663cee318"
  },
  {
   "cell_type": "code",
   "execution_count": null,
   "outputs": [],
   "source": [],
   "metadata": {
    "collapsed": false
   },
   "id": "4cfe90e4137c740d"
  }
 ],
 "metadata": {
  "kernelspec": {
   "display_name": "Python 3",
   "language": "python",
   "name": "python3"
  },
  "language_info": {
   "codemirror_mode": {
    "name": "ipython",
    "version": 2
   },
   "file_extension": ".py",
   "mimetype": "text/x-python",
   "name": "python",
   "nbconvert_exporter": "python",
   "pygments_lexer": "ipython2",
   "version": "2.7.6"
  }
 },
 "nbformat": 4,
 "nbformat_minor": 5
}
